{
 "cells": [
  {
   "cell_type": "code",
   "execution_count": 2,
   "metadata": {},
   "outputs": [],
   "source": [
    "import numpy as np\n",
    "from skimage.io import imread, imsave\n",
    "# import torch"
   ]
  },
  {
   "cell_type": "code",
   "execution_count": 3,
   "metadata": {},
   "outputs": [
    {
     "name": "stdout",
     "output_type": "stream",
     "text": [
      "(40, 4096, 4096)\n"
     ]
    }
   ],
   "source": [
    "data_actin=imread(\"/mnt/efs/shared_data/virtual_staining/SIM_all/SIM_stack_tiff/actin201-240.tif\", plugin='tifffile')\n",
    "print(data_actin.shape)"
   ]
  },
  {
   "cell_type": "code",
   "execution_count": 4,
   "metadata": {},
   "outputs": [
    {
     "name": "stdout",
     "output_type": "stream",
     "text": [
      "(40, 4096, 4096)\n",
      "(40, 4096, 4096)\n"
     ]
    }
   ],
   "source": [
    "\n",
    "data_MT=imread(\"/mnt/efs/shared_data/virtual_staining/SIM_all/SIM_stack_tiff/MT201-240.tif\", plugin='tifffile')\n",
    "print(data_MT.shape)\n",
    "\n",
    "data_tubulin=imread(\"/mnt/efs/shared_data/virtual_staining/SIM_all/SIM_stack_tiff/tubulin201-240.tif\", plugin='tifffile')\n",
    "print(data_tubulin.shape)\n",
    "# data_nuc=imread(\"/mnt/efs/shared_data/virtual_staining/SIM_all/SIM_stack_tiff/nuc201-240\", plugin='tifffile')\n",
    "# print(data_nuc.shape)"
   ]
  },
  {
   "cell_type": "code",
   "execution_count": 14,
   "metadata": {},
   "outputs": [],
   "source": [
    "data_actin = data_actin.astype(np.uint16)\n",
    "data_MT = data_MT.astype(np.uint16)\n",
    "data_tubulin = data_tubulin.astype(np.uint16)"
   ]
  },
  {
   "cell_type": "code",
   "execution_count": 15,
   "metadata": {},
   "outputs": [
    {
     "name": "stdout",
     "output_type": "stream",
     "text": [
      "(3, 40, 4096, 4096)\n"
     ]
    }
   ],
   "source": [
    "data_composite=np.stack([data_actin,data_MT,data_tubulin])\n",
    "print(data_composite.shape)\n",
    "\n",
    "# data_actin=None\n",
    "# data_MT=None\n",
    "# data_tubulin=None\n"
   ]
  },
  {
   "cell_type": "code",
   "execution_count": 17,
   "metadata": {},
   "outputs": [
    {
     "data": {
      "text/plain": [
       "(3, 40, 4096, 4096)"
      ]
     },
     "execution_count": 17,
     "metadata": {},
     "output_type": "execute_result"
    }
   ],
   "source": [
    "data_composite.shape"
   ]
  },
  {
   "cell_type": "code",
   "execution_count": 18,
   "metadata": {},
   "outputs": [
    {
     "name": "stdout",
     "output_type": "stream",
     "text": [
      "(40, 4096, 4096, 3)\n"
     ]
    }
   ],
   "source": [
    "\n",
    "data_composite_transpose=np.transpose(data_composite, (1, 2, 3, 0))\n",
    "print(data_composite_transpose.shape)\n",
    "data_composite =None\n"
   ]
  },
  {
   "cell_type": "code",
   "execution_count": 21,
   "metadata": {},
   "outputs": [
    {
     "name": "stdout",
     "output_type": "stream",
     "text": [
      "-rw-rw-r-- 1 daozhengg daozhengg 3.8G Sep  1 20:24 /home/daozhengg/data/SIM_all/SIM_nxyc_tiff/SIM201-240-3channel.tif\n"
     ]
    }
   ],
   "source": [
    "!ls -lhrt /home/daozhengg/data/SIM_all/SIM_nxyc_tiff/SIM201-240-3channel.tif"
   ]
  },
  {
   "cell_type": "code",
   "execution_count": 20,
   "metadata": {},
   "outputs": [
    {
     "name": "stderr",
     "output_type": "stream",
     "text": [
      "/tmp/ipykernel_9318/3787696009.py:1: UserWarning: /home/daozhengg/data/SIM_all/SIM_nxyc_tiff/SIM201-240-3channel.tif is a low contrast image\n",
      "  imsave(\"/home/daozhengg/data/SIM_all/SIM_nxyc_tiff/SIM201-240-3channel.tif\", data_composite_transpose, plugin='tifffile')\n"
     ]
    }
   ],
   "source": [
    "imsave(\"/home/daozhengg/data/SIM_all/SIM_nxyc_tiff/SIM201-240-3channel.tif\", data_composite_transpose, plugin='tifffile')"
   ]
  },
  {
   "cell_type": "code",
   "execution_count": null,
   "metadata": {},
   "outputs": [],
   "source": [
    "data_new=imread(\"/home/daozhengg/data/SIM_all/SIM_nxyc_tiff/SIM201-240-3channel.tif\", plugin='tifffile')\n",
    "print(data_new.shape)"
   ]
  },
  {
   "cell_type": "code",
   "execution_count": null,
   "metadata": {},
   "outputs": [
    {
     "ename": "",
     "evalue": "",
     "output_type": "error",
     "traceback": [
      "\u001b[1;31mThe Kernel crashed while executing code in the the current cell or a previous cell. Please review the code in the cell(s) to identify a possible cause of the failure. Click <a href='https://aka.ms/vscodeJupyterKernelCrash'>here</a> for more info. View Jupyter <a href='command:jupyter.viewOutput'>log</a> for further details."
     ]
    }
   ],
   "source": [
    "import matplotlib.pyplot as plt\n",
    "_,ax = plt.subplots(figsize=(9,3),ncols=3)\n",
    "ax[0].imshow(data_new[35,::6,::6,0])\n",
    "ax[1].imshow(data_new[35,::6,::6,1])\n",
    "ax[2].imshow(data_new[35,::6,::6,2])"
   ]
  },
  {
   "cell_type": "code",
   "execution_count": null,
   "metadata": {},
   "outputs": [],
   "source": []
  }
 ],
 "metadata": {
  "kernelspec": {
   "display_name": "usplit",
   "language": "python",
   "name": "python3"
  },
  "language_info": {
   "codemirror_mode": {
    "name": "ipython",
    "version": 3
   },
   "file_extension": ".py",
   "mimetype": "text/x-python",
   "name": "python",
   "nbconvert_exporter": "python",
   "pygments_lexer": "ipython3",
   "version": "3.9.18"
  },
  "orig_nbformat": 4
 },
 "nbformat": 4,
 "nbformat_minor": 2
}
